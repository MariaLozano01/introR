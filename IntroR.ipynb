{
  "nbformat": 4,
  "nbformat_minor": 0,
  "metadata": {
    "colab": {
      "provenance": [],
      "include_colab_link": true
    },
    "kernelspec": {
      "name": "ir",
      "display_name": "R"
    },
    "language_info": {
      "name": "R"
    }
  },
  "cells": [
    {
      "cell_type": "markdown",
      "metadata": {
        "id": "view-in-github",
        "colab_type": "text"
      },
      "source": [
        "<a href=\"https://colab.research.google.com/github/MariaLozano01/introR/blob/main/IntroR.ipynb\" target=\"_parent\"><img src=\"https://colab.research.google.com/assets/colab-badge.svg\" alt=\"Open In Colab\"/></a>"
      ]
    },
    {
      "cell_type": "code",
      "execution_count": 61,
      "metadata": {
        "id": "bVPk4eIVUnU6",
        "outputId": "10d6ca87-772c-4066-fc50-e7a259c82b9b",
        "colab": {
          "base_uri": "https://localhost:8080/",
          "height": 34
        }
      },
      "outputs": [
        {
          "output_type": "display_data",
          "data": {
            "text/html": [
              "'/content'"
            ],
            "text/markdown": "'/content'",
            "text/latex": "'/content'",
            "text/plain": [
              "[1] \"/content\""
            ]
          },
          "metadata": {}
        }
      ],
      "source": [
        "getwd()\n"
      ]
    },
    {
      "cell_type": "code",
      "source": [
        "library(tidyverse)"
      ],
      "metadata": {
        "id": "M3D9HRVopVlY",
        "colab": {
          "base_uri": "https://localhost:8080/"
        },
        "outputId": "7dfa0d3c-9edb-4ade-acd6-2759845c2625"
      },
      "execution_count": 1,
      "outputs": [
        {
          "output_type": "stream",
          "name": "stderr",
          "text": [
            "Warning message in system(\"timedatectl\", intern = TRUE):\n",
            "“running command 'timedatectl' had status 1”\n",
            "── \u001b[1mAttaching packages\u001b[22m ─────────────────────────────────────── tidyverse 1.3.1 ──\n",
            "\n",
            "\u001b[32m✔\u001b[39m \u001b[34mggplot2\u001b[39m 3.3.6      \u001b[32m✔\u001b[39m \u001b[34mpurrr  \u001b[39m 0.3.5 \n",
            "\u001b[32m✔\u001b[39m \u001b[34mtibble \u001b[39m 3.1.7      \u001b[32m✔\u001b[39m \u001b[34mdplyr  \u001b[39m 1.0.10\n",
            "\u001b[32m✔\u001b[39m \u001b[34mtidyr  \u001b[39m 1.2.1      \u001b[32m✔\u001b[39m \u001b[34mstringr\u001b[39m 1.4.1 \n",
            "\u001b[32m✔\u001b[39m \u001b[34mreadr  \u001b[39m 2.1.3      \u001b[32m✔\u001b[39m \u001b[34mforcats\u001b[39m 0.5.2 \n",
            "\n",
            "── \u001b[1mConflicts\u001b[22m ────────────────────────────────────────── tidyverse_conflicts() ──\n",
            "\u001b[31m✖\u001b[39m \u001b[34mdplyr\u001b[39m::\u001b[32mfilter()\u001b[39m masks \u001b[34mstats\u001b[39m::filter()\n",
            "\u001b[31m✖\u001b[39m \u001b[34mdplyr\u001b[39m::\u001b[32mlag()\u001b[39m    masks \u001b[34mstats\u001b[39m::lag()\n",
            "\n"
          ]
        }
      ]
    },
    {
      "cell_type": "code",
      "source": [
        "paygap <- read.csv('/content/UK Gender Pay Gap Data - 2022 to 2023.csv', header = TRUE) #header = TRUE, which specifies that the first row of the dataset is a header. If your dataset has no header you should specify header = FALSE"
      ],
      "metadata": {
        "id": "hjuSJOnlF1JO"
      },
      "execution_count": 7,
      "outputs": []
    },
    {
      "cell_type": "code",
      "source": [
        "head(paygap, n = 5)"
      ],
      "metadata": {
        "colab": {
          "base_uri": "https://localhost:8080/",
          "height": 697
        },
        "id": "apqgEsYxGbjM",
        "outputId": "74864eff-99c5-45bc-bccf-f1941e5947da"
      },
      "execution_count": 8,
      "outputs": [
        {
          "output_type": "display_data",
          "data": {
            "text/html": [
              "<table class=\"dataframe\">\n",
              "<caption>A data.frame: 5 × 27</caption>\n",
              "<thead>\n",
              "\t<tr><th></th><th scope=col>EmployerName</th><th scope=col>EmployerId</th><th scope=col>Address</th><th scope=col>PostCode</th><th scope=col>CompanyNumber</th><th scope=col>SicCodes</th><th scope=col>DiffMeanHourlyPercent</th><th scope=col>DiffMedianHourlyPercent</th><th scope=col>DiffMeanBonusPercent</th><th scope=col>DiffMedianBonusPercent</th><th scope=col>⋯</th><th scope=col>FemaleUpperMiddleQuartile</th><th scope=col>MaleTopQuartile</th><th scope=col>FemaleTopQuartile</th><th scope=col>CompanyLinkToGPGInfo</th><th scope=col>ResponsiblePerson</th><th scope=col>EmployerSize</th><th scope=col>CurrentName</th><th scope=col>SubmittedAfterTheDeadline</th><th scope=col>DueDate</th><th scope=col>DateSubmitted</th></tr>\n",
              "\t<tr><th></th><th scope=col>&lt;chr&gt;</th><th scope=col>&lt;int&gt;</th><th scope=col>&lt;chr&gt;</th><th scope=col>&lt;chr&gt;</th><th scope=col>&lt;chr&gt;</th><th scope=col>&lt;chr&gt;</th><th scope=col>&lt;dbl&gt;</th><th scope=col>&lt;dbl&gt;</th><th scope=col>&lt;dbl&gt;</th><th scope=col>&lt;dbl&gt;</th><th scope=col>⋯</th><th scope=col>&lt;dbl&gt;</th><th scope=col>&lt;dbl&gt;</th><th scope=col>&lt;dbl&gt;</th><th scope=col>&lt;chr&gt;</th><th scope=col>&lt;chr&gt;</th><th scope=col>&lt;chr&gt;</th><th scope=col>&lt;chr&gt;</th><th scope=col>&lt;chr&gt;</th><th scope=col>&lt;chr&gt;</th><th scope=col>&lt;chr&gt;</th></tr>\n",
              "</thead>\n",
              "<tbody>\n",
              "\t<tr><th scope=row>1</th><td>A.J.N. STEELSTOCK LTD.                        </td><td>14835</td><td>Icknield Way, Kentford, Newmarket, Suffolk, CB8 7QT                                   </td><td>CB8 7QT </td><td>00689647</td><td>46720    </td><td>16.2</td><td>  3.3</td><td>-20.0</td><td>  0.0</td><td>⋯</td><td>10.8</td><td>87.1</td><td>12.9</td><td>https://www.ajnsteelstock.co.uk/wp-content/uploads/2022/10/2022-Gender-Pay-Gap-Report.pdf</td><td>Courtney Bell (FD)              </td><td>250 to 499  </td><td>A.J.N. STEELSTOCK LTD.                        </td><td>False</td><td>2023/04/05 00:00:00</td><td>2022/10/11 15:34:17</td></tr>\n",
              "\t<tr><th scope=row>2</th><td>AB WORLD FOODS LIMITED                        </td><td>  764</td><td>Weston Centre, 10 Grosvenor Street, London, W1K 4QY                                   </td><td>W1K 4QY </td><td>01400901</td><td>10890    </td><td>-8.6</td><td>-12.3</td><td> 10.3</td><td>-20.8</td><td>⋯</td><td>33.7</td><td>44.6</td><td>55.4</td><td>https://abworldfoods.com/documents/ABWF_Gender_Pay_Gap_Narrative_2022.pdf                </td><td>Andy Mayhew (Managing Director) </td><td>250 to 499  </td><td>AB WORLD FOODS LIMITED                        </td><td>False</td><td>2023/04/05 00:00:00</td><td>2022/09/30 09:45:25</td></tr>\n",
              "\t<tr><th scope=row>3</th><td>ABACUS EMPLOYMENT SERVICES LIMITED            </td><td>  767</td><td>1 Chequers Road, Basingstoke, Hampshire, England, RG21 7PU                            </td><td>RG21 7PU</td><td>02638307</td><td>78200    </td><td>-3.0</td><td>  3.2</td><td>   NA</td><td>   NA</td><td>⋯</td><td>21.5</td><td>80.9</td><td>19.1</td><td>http://www.abacus-employment.com                                                         </td><td>Phil James (Finance Manager)    </td><td>250 to 499  </td><td>ABACUS EMPLOYMENT SERVICES LIMITED            </td><td>False</td><td>2023/04/05 00:00:00</td><td>2022/04/13 14:57:04</td></tr>\n",
              "\t<tr><th scope=row>4</th><td>Advisory, Conciliation and Arbitration Service</td><td>  496</td><td>8th Floor, Windsor House, 50 Victoria Street, London, London, United Kingdom, SW1H 0TL</td><td>SW1H 0TL</td><td>        </td><td>1,\n",
              "84110</td><td> 7.2</td><td>  6.1</td><td> 19.4</td><td>  9.9</td><td>⋯</td><td>63.2</td><td>51.8</td><td>48.2</td><td>https://www.acas.org.uk/acas-gender-pay-report/2021-to-2022-report                       </td><td>                                </td><td>1000 to 4999</td><td>Advisory, Conciliation and Arbitration Service</td><td>False</td><td>2023/03/31 00:00:00</td><td>2022/08/01 13:15:17</td></tr>\n",
              "\t<tr><th scope=row>5</th><td>AFH INDEPENDENT FINANCIAL SERVICES LIMITED    </td><td>19364</td><td>Afh House Buntsford Drive, Stoke Heath, Bromsgrove, Worcestershire, B60 4JE           </td><td>B60 4JE </td><td>04049180</td><td>64999    </td><td>25.0</td><td> 32.0</td><td>-33.0</td><td> 69.0</td><td>⋯</td><td>59.0</td><td>60.0</td><td>40.0</td><td>                                                                                         </td><td>Alison Court (Senior HR Adviser)</td><td>500 to 999  </td><td>AFH INDEPENDENT FINANCIAL SERVICES LIMITED    </td><td>False</td><td>2023/04/05 00:00:00</td><td>2022/05/20 11:24:09</td></tr>\n",
              "</tbody>\n",
              "</table>\n"
            ],
            "text/markdown": "\nA data.frame: 5 × 27\n\n| <!--/--> | EmployerName &lt;chr&gt; | EmployerId &lt;int&gt; | Address &lt;chr&gt; | PostCode &lt;chr&gt; | CompanyNumber &lt;chr&gt; | SicCodes &lt;chr&gt; | DiffMeanHourlyPercent &lt;dbl&gt; | DiffMedianHourlyPercent &lt;dbl&gt; | DiffMeanBonusPercent &lt;dbl&gt; | DiffMedianBonusPercent &lt;dbl&gt; | ⋯ ⋯ | FemaleUpperMiddleQuartile &lt;dbl&gt; | MaleTopQuartile &lt;dbl&gt; | FemaleTopQuartile &lt;dbl&gt; | CompanyLinkToGPGInfo &lt;chr&gt; | ResponsiblePerson &lt;chr&gt; | EmployerSize &lt;chr&gt; | CurrentName &lt;chr&gt; | SubmittedAfterTheDeadline &lt;chr&gt; | DueDate &lt;chr&gt; | DateSubmitted &lt;chr&gt; |\n|---|---|---|---|---|---|---|---|---|---|---|---|---|---|---|---|---|---|---|---|---|---|\n| 1 | A.J.N. STEELSTOCK LTD.                         | 14835 | Icknield Way, Kentford, Newmarket, Suffolk, CB8 7QT                                    | CB8 7QT  | 00689647 | 46720     | 16.2 |   3.3 | -20.0 |   0.0 | ⋯ | 10.8 | 87.1 | 12.9 | https://www.ajnsteelstock.co.uk/wp-content/uploads/2022/10/2022-Gender-Pay-Gap-Report.pdf | Courtney Bell (FD)               | 250 to 499   | A.J.N. STEELSTOCK LTD.                         | False | 2023/04/05 00:00:00 | 2022/10/11 15:34:17 |\n| 2 | AB WORLD FOODS LIMITED                         |   764 | Weston Centre, 10 Grosvenor Street, London, W1K 4QY                                    | W1K 4QY  | 01400901 | 10890     | -8.6 | -12.3 |  10.3 | -20.8 | ⋯ | 33.7 | 44.6 | 55.4 | https://abworldfoods.com/documents/ABWF_Gender_Pay_Gap_Narrative_2022.pdf                 | Andy Mayhew (Managing Director)  | 250 to 499   | AB WORLD FOODS LIMITED                         | False | 2023/04/05 00:00:00 | 2022/09/30 09:45:25 |\n| 3 | ABACUS EMPLOYMENT SERVICES LIMITED             |   767 | 1 Chequers Road, Basingstoke, Hampshire, England, RG21 7PU                             | RG21 7PU | 02638307 | 78200     | -3.0 |   3.2 |    NA |    NA | ⋯ | 21.5 | 80.9 | 19.1 | http://www.abacus-employment.com                                                          | Phil James (Finance Manager)     | 250 to 499   | ABACUS EMPLOYMENT SERVICES LIMITED             | False | 2023/04/05 00:00:00 | 2022/04/13 14:57:04 |\n| 4 | Advisory, Conciliation and Arbitration Service |   496 | 8th Floor, Windsor House, 50 Victoria Street, London, London, United Kingdom, SW1H 0TL | SW1H 0TL | <!----> | 1,\n84110 |  7.2 |   6.1 |  19.4 |   9.9 | ⋯ | 63.2 | 51.8 | 48.2 | https://www.acas.org.uk/acas-gender-pay-report/2021-to-2022-report                        | <!----> | 1000 to 4999 | Advisory, Conciliation and Arbitration Service | False | 2023/03/31 00:00:00 | 2022/08/01 13:15:17 |\n| 5 | AFH INDEPENDENT FINANCIAL SERVICES LIMITED     | 19364 | Afh House Buntsford Drive, Stoke Heath, Bromsgrove, Worcestershire, B60 4JE            | B60 4JE  | 04049180 | 64999     | 25.0 |  32.0 | -33.0 |  69.0 | ⋯ | 59.0 | 60.0 | 40.0 | <!----> | Alison Court (Senior HR Adviser) | 500 to 999   | AFH INDEPENDENT FINANCIAL SERVICES LIMITED     | False | 2023/04/05 00:00:00 | 2022/05/20 11:24:09 |\n\n",
            "text/latex": "A data.frame: 5 × 27\n\\begin{tabular}{r|lllllllllllllllllllll}\n  & EmployerName & EmployerId & Address & PostCode & CompanyNumber & SicCodes & DiffMeanHourlyPercent & DiffMedianHourlyPercent & DiffMeanBonusPercent & DiffMedianBonusPercent & ⋯ & FemaleUpperMiddleQuartile & MaleTopQuartile & FemaleTopQuartile & CompanyLinkToGPGInfo & ResponsiblePerson & EmployerSize & CurrentName & SubmittedAfterTheDeadline & DueDate & DateSubmitted\\\\\n  & <chr> & <int> & <chr> & <chr> & <chr> & <chr> & <dbl> & <dbl> & <dbl> & <dbl> & ⋯ & <dbl> & <dbl> & <dbl> & <chr> & <chr> & <chr> & <chr> & <chr> & <chr> & <chr>\\\\\n\\hline\n\t1 & A.J.N. STEELSTOCK LTD.                         & 14835 & Icknield Way, Kentford, Newmarket, Suffolk, CB8 7QT                                    & CB8 7QT  & 00689647 & 46720     & 16.2 &   3.3 & -20.0 &   0.0 & ⋯ & 10.8 & 87.1 & 12.9 & https://www.ajnsteelstock.co.uk/wp-content/uploads/2022/10/2022-Gender-Pay-Gap-Report.pdf & Courtney Bell (FD)               & 250 to 499   & A.J.N. STEELSTOCK LTD.                         & False & 2023/04/05 00:00:00 & 2022/10/11 15:34:17\\\\\n\t2 & AB WORLD FOODS LIMITED                         &   764 & Weston Centre, 10 Grosvenor Street, London, W1K 4QY                                    & W1K 4QY  & 01400901 & 10890     & -8.6 & -12.3 &  10.3 & -20.8 & ⋯ & 33.7 & 44.6 & 55.4 & https://abworldfoods.com/documents/ABWF\\_Gender\\_Pay\\_Gap\\_Narrative\\_2022.pdf                 & Andy Mayhew (Managing Director)  & 250 to 499   & AB WORLD FOODS LIMITED                         & False & 2023/04/05 00:00:00 & 2022/09/30 09:45:25\\\\\n\t3 & ABACUS EMPLOYMENT SERVICES LIMITED             &   767 & 1 Chequers Road, Basingstoke, Hampshire, England, RG21 7PU                             & RG21 7PU & 02638307 & 78200     & -3.0 &   3.2 &    NA &    NA & ⋯ & 21.5 & 80.9 & 19.1 & http://www.abacus-employment.com                                                          & Phil James (Finance Manager)     & 250 to 499   & ABACUS EMPLOYMENT SERVICES LIMITED             & False & 2023/04/05 00:00:00 & 2022/04/13 14:57:04\\\\\n\t4 & Advisory, Conciliation and Arbitration Service &   496 & 8th Floor, Windsor House, 50 Victoria Street, London, London, United Kingdom, SW1H 0TL & SW1H 0TL &          & 1,\n84110 &  7.2 &   6.1 &  19.4 &   9.9 & ⋯ & 63.2 & 51.8 & 48.2 & https://www.acas.org.uk/acas-gender-pay-report/2021-to-2022-report                        &                                  & 1000 to 4999 & Advisory, Conciliation and Arbitration Service & False & 2023/03/31 00:00:00 & 2022/08/01 13:15:17\\\\\n\t5 & AFH INDEPENDENT FINANCIAL SERVICES LIMITED     & 19364 & Afh House Buntsford Drive, Stoke Heath, Bromsgrove, Worcestershire, B60 4JE            & B60 4JE  & 04049180 & 64999     & 25.0 &  32.0 & -33.0 &  69.0 & ⋯ & 59.0 & 60.0 & 40.0 &                                                                                           & Alison Court (Senior HR Adviser) & 500 to 999   & AFH INDEPENDENT FINANCIAL SERVICES LIMITED     & False & 2023/04/05 00:00:00 & 2022/05/20 11:24:09\\\\\n\\end{tabular}\n",
            "text/plain": [
              "  EmployerName                                   EmployerId\n",
              "1 A.J.N. STEELSTOCK LTD.                         14835     \n",
              "2 AB WORLD FOODS LIMITED                           764     \n",
              "3 ABACUS EMPLOYMENT SERVICES LIMITED               767     \n",
              "4 Advisory, Conciliation and Arbitration Service   496     \n",
              "5 AFH INDEPENDENT FINANCIAL SERVICES LIMITED     19364     \n",
              "  Address                                                                               \n",
              "1 Icknield Way, Kentford, Newmarket, Suffolk, CB8 7QT                                   \n",
              "2 Weston Centre, 10 Grosvenor Street, London, W1K 4QY                                   \n",
              "3 1 Chequers Road, Basingstoke, Hampshire, England, RG21 7PU                            \n",
              "4 8th Floor, Windsor House, 50 Victoria Street, London, London, United Kingdom, SW1H 0TL\n",
              "5 Afh House Buntsford Drive, Stoke Heath, Bromsgrove, Worcestershire, B60 4JE           \n",
              "  PostCode CompanyNumber SicCodes  DiffMeanHourlyPercent\n",
              "1 CB8 7QT  00689647      46720     16.2                 \n",
              "2 W1K 4QY  01400901      10890     -8.6                 \n",
              "3 RG21 7PU 02638307      78200     -3.0                 \n",
              "4 SW1H 0TL               1,\\n84110  7.2                 \n",
              "5 B60 4JE  04049180      64999     25.0                 \n",
              "  DiffMedianHourlyPercent DiffMeanBonusPercent DiffMedianBonusPercent ⋯\n",
              "1   3.3                   -20.0                  0.0                  ⋯\n",
              "2 -12.3                    10.3                -20.8                  ⋯\n",
              "3   3.2                      NA                   NA                  ⋯\n",
              "4   6.1                    19.4                  9.9                  ⋯\n",
              "5  32.0                   -33.0                 69.0                  ⋯\n",
              "  FemaleUpperMiddleQuartile MaleTopQuartile FemaleTopQuartile\n",
              "1 10.8                      87.1            12.9             \n",
              "2 33.7                      44.6            55.4             \n",
              "3 21.5                      80.9            19.1             \n",
              "4 63.2                      51.8            48.2             \n",
              "5 59.0                      60.0            40.0             \n",
              "  CompanyLinkToGPGInfo                                                                     \n",
              "1 https://www.ajnsteelstock.co.uk/wp-content/uploads/2022/10/2022-Gender-Pay-Gap-Report.pdf\n",
              "2 https://abworldfoods.com/documents/ABWF_Gender_Pay_Gap_Narrative_2022.pdf                \n",
              "3 http://www.abacus-employment.com                                                         \n",
              "4 https://www.acas.org.uk/acas-gender-pay-report/2021-to-2022-report                       \n",
              "5                                                                                          \n",
              "  ResponsiblePerson                EmployerSize\n",
              "1 Courtney Bell (FD)               250 to 499  \n",
              "2 Andy Mayhew (Managing Director)  250 to 499  \n",
              "3 Phil James (Finance Manager)     250 to 499  \n",
              "4                                  1000 to 4999\n",
              "5 Alison Court (Senior HR Adviser) 500 to 999  \n",
              "  CurrentName                                    SubmittedAfterTheDeadline\n",
              "1 A.J.N. STEELSTOCK LTD.                         False                    \n",
              "2 AB WORLD FOODS LIMITED                         False                    \n",
              "3 ABACUS EMPLOYMENT SERVICES LIMITED             False                    \n",
              "4 Advisory, Conciliation and Arbitration Service False                    \n",
              "5 AFH INDEPENDENT FINANCIAL SERVICES LIMITED     False                    \n",
              "  DueDate             DateSubmitted      \n",
              "1 2023/04/05 00:00:00 2022/10/11 15:34:17\n",
              "2 2023/04/05 00:00:00 2022/09/30 09:45:25\n",
              "3 2023/04/05 00:00:00 2022/04/13 14:57:04\n",
              "4 2023/03/31 00:00:00 2022/08/01 13:15:17\n",
              "5 2023/04/05 00:00:00 2022/05/20 11:24:09"
            ]
          },
          "metadata": {}
        }
      ]
    },
    {
      "cell_type": "code",
      "source": [
        "colnames(paygap)"
      ],
      "metadata": {
        "colab": {
          "base_uri": "https://localhost:8080/",
          "height": 85
        },
        "id": "UKv4wSpNGivV",
        "outputId": "fa28bc4a-4056-457e-c859-8f8ea76c34fd"
      },
      "execution_count": 9,
      "outputs": [
        {
          "output_type": "display_data",
          "data": {
            "text/html": [
              "<style>\n",
              ".list-inline {list-style: none; margin:0; padding: 0}\n",
              ".list-inline>li {display: inline-block}\n",
              ".list-inline>li:not(:last-child)::after {content: \"\\00b7\"; padding: 0 .5ex}\n",
              "</style>\n",
              "<ol class=list-inline><li>'EmployerName'</li><li>'EmployerId'</li><li>'Address'</li><li>'PostCode'</li><li>'CompanyNumber'</li><li>'SicCodes'</li><li>'DiffMeanHourlyPercent'</li><li>'DiffMedianHourlyPercent'</li><li>'DiffMeanBonusPercent'</li><li>'DiffMedianBonusPercent'</li><li>'MaleBonusPercent'</li><li>'FemaleBonusPercent'</li><li>'MaleLowerQuartile'</li><li>'FemaleLowerQuartile'</li><li>'MaleLowerMiddleQuartile'</li><li>'FemaleLowerMiddleQuartile'</li><li>'MaleUpperMiddleQuartile'</li><li>'FemaleUpperMiddleQuartile'</li><li>'MaleTopQuartile'</li><li>'FemaleTopQuartile'</li><li>'CompanyLinkToGPGInfo'</li><li>'ResponsiblePerson'</li><li>'EmployerSize'</li><li>'CurrentName'</li><li>'SubmittedAfterTheDeadline'</li><li>'DueDate'</li><li>'DateSubmitted'</li></ol>\n"
            ],
            "text/markdown": "1. 'EmployerName'\n2. 'EmployerId'\n3. 'Address'\n4. 'PostCode'\n5. 'CompanyNumber'\n6. 'SicCodes'\n7. 'DiffMeanHourlyPercent'\n8. 'DiffMedianHourlyPercent'\n9. 'DiffMeanBonusPercent'\n10. 'DiffMedianBonusPercent'\n11. 'MaleBonusPercent'\n12. 'FemaleBonusPercent'\n13. 'MaleLowerQuartile'\n14. 'FemaleLowerQuartile'\n15. 'MaleLowerMiddleQuartile'\n16. 'FemaleLowerMiddleQuartile'\n17. 'MaleUpperMiddleQuartile'\n18. 'FemaleUpperMiddleQuartile'\n19. 'MaleTopQuartile'\n20. 'FemaleTopQuartile'\n21. 'CompanyLinkToGPGInfo'\n22. 'ResponsiblePerson'\n23. 'EmployerSize'\n24. 'CurrentName'\n25. 'SubmittedAfterTheDeadline'\n26. 'DueDate'\n27. 'DateSubmitted'\n\n\n",
            "text/latex": "\\begin{enumerate*}\n\\item 'EmployerName'\n\\item 'EmployerId'\n\\item 'Address'\n\\item 'PostCode'\n\\item 'CompanyNumber'\n\\item 'SicCodes'\n\\item 'DiffMeanHourlyPercent'\n\\item 'DiffMedianHourlyPercent'\n\\item 'DiffMeanBonusPercent'\n\\item 'DiffMedianBonusPercent'\n\\item 'MaleBonusPercent'\n\\item 'FemaleBonusPercent'\n\\item 'MaleLowerQuartile'\n\\item 'FemaleLowerQuartile'\n\\item 'MaleLowerMiddleQuartile'\n\\item 'FemaleLowerMiddleQuartile'\n\\item 'MaleUpperMiddleQuartile'\n\\item 'FemaleUpperMiddleQuartile'\n\\item 'MaleTopQuartile'\n\\item 'FemaleTopQuartile'\n\\item 'CompanyLinkToGPGInfo'\n\\item 'ResponsiblePerson'\n\\item 'EmployerSize'\n\\item 'CurrentName'\n\\item 'SubmittedAfterTheDeadline'\n\\item 'DueDate'\n\\item 'DateSubmitted'\n\\end{enumerate*}\n",
            "text/plain": [
              " [1] \"EmployerName\"              \"EmployerId\"               \n",
              " [3] \"Address\"                   \"PostCode\"                 \n",
              " [5] \"CompanyNumber\"             \"SicCodes\"                 \n",
              " [7] \"DiffMeanHourlyPercent\"     \"DiffMedianHourlyPercent\"  \n",
              " [9] \"DiffMeanBonusPercent\"      \"DiffMedianBonusPercent\"   \n",
              "[11] \"MaleBonusPercent\"          \"FemaleBonusPercent\"       \n",
              "[13] \"MaleLowerQuartile\"         \"FemaleLowerQuartile\"      \n",
              "[15] \"MaleLowerMiddleQuartile\"   \"FemaleLowerMiddleQuartile\"\n",
              "[17] \"MaleUpperMiddleQuartile\"   \"FemaleUpperMiddleQuartile\"\n",
              "[19] \"MaleTopQuartile\"           \"FemaleTopQuartile\"        \n",
              "[21] \"CompanyLinkToGPGInfo\"      \"ResponsiblePerson\"        \n",
              "[23] \"EmployerSize\"              \"CurrentName\"              \n",
              "[25] \"SubmittedAfterTheDeadline\" \"DueDate\"                  \n",
              "[27] \"DateSubmitted\"            "
            ]
          },
          "metadata": {}
        }
      ]
    },
    {
      "cell_type": "code",
      "source": [
        "dim(paygap)"
      ],
      "metadata": {
        "colab": {
          "base_uri": "https://localhost:8080/",
          "height": 34
        },
        "id": "AWAL8J-GGkAT",
        "outputId": "9031c9c9-f999-424f-9b96-44ecfb61d855"
      },
      "execution_count": 10,
      "outputs": [
        {
          "output_type": "display_data",
          "data": {
            "text/html": [
              "<style>\n",
              ".list-inline {list-style: none; margin:0; padding: 0}\n",
              ".list-inline>li {display: inline-block}\n",
              ".list-inline>li:not(:last-child)::after {content: \"\\00b7\"; padding: 0 .5ex}\n",
              "</style>\n",
              "<ol class=list-inline><li>368</li><li>27</li></ol>\n"
            ],
            "text/markdown": "1. 368\n2. 27\n\n\n",
            "text/latex": "\\begin{enumerate*}\n\\item 368\n\\item 27\n\\end{enumerate*}\n",
            "text/plain": [
              "[1] 368  27"
            ]
          },
          "metadata": {}
        }
      ]
    },
    {
      "cell_type": "code",
      "source": [
        "class(paygap)"
      ],
      "metadata": {
        "colab": {
          "base_uri": "https://localhost:8080/",
          "height": 34
        },
        "id": "NtWJ417GGp0e",
        "outputId": "ab18923f-490c-4700-d814-57bf0841171a"
      },
      "execution_count": 11,
      "outputs": [
        {
          "output_type": "display_data",
          "data": {
            "text/html": [
              "'data.frame'"
            ],
            "text/markdown": "'data.frame'",
            "text/latex": "'data.frame'",
            "text/plain": [
              "[1] \"data.frame\""
            ]
          },
          "metadata": {}
        }
      ]
    },
    {
      "cell_type": "code",
      "source": [
        "class(paygap$DiffMeanHourlyPercent) #To check the data type(s) in the column DiffMeanHourlyPercent"
      ],
      "metadata": {
        "colab": {
          "base_uri": "https://localhost:8080/",
          "height": 34
        },
        "id": "ozNktm3xGqdS",
        "outputId": "03aeb9f5-5e2b-480d-961a-5be702081509"
      },
      "execution_count": 13,
      "outputs": [
        {
          "output_type": "display_data",
          "data": {
            "text/html": [
              "'numeric'"
            ],
            "text/markdown": "'numeric'",
            "text/latex": "'numeric'",
            "text/plain": [
              "[1] \"numeric\""
            ]
          },
          "metadata": {}
        }
      ]
    },
    {
      "cell_type": "code",
      "source": [
        "bodytemp <- c(97.1,97.1,97.1,97.2,97.3,97.4,97.4,97.4,97.4,97.5,97.5,97.6,97.6,97.6)\n",
        "gender <- c(1,1,1,1,1,1,1,1,1,1,1,1,1,1)\n",
        "heartrate <- c(73,75,82,64,69,70,68,72,78,70,75,74,69,69)\n",
        "\n",
        "cardiacdata <- data.frame(bodytemp = bodytemp, gender = gender, heartrate = heartrate)"
      ],
      "metadata": {
        "id": "1Iy3SAa3Hd4P"
      },
      "execution_count": 26,
      "outputs": []
    },
    {
      "cell_type": "code",
      "source": [
        "head(cardiacdata, n = 5)"
      ],
      "metadata": {
        "colab": {
          "base_uri": "https://localhost:8080/",
          "height": 252
        },
        "id": "fSFZjasNJOAj",
        "outputId": "1790764a-f683-4f69-c439-81abaa256f11"
      },
      "execution_count": 27,
      "outputs": [
        {
          "output_type": "display_data",
          "data": {
            "text/html": [
              "<table class=\"dataframe\">\n",
              "<caption>A data.frame: 5 × 3</caption>\n",
              "<thead>\n",
              "\t<tr><th></th><th scope=col>bodytemp</th><th scope=col>gender</th><th scope=col>heartrate</th></tr>\n",
              "\t<tr><th></th><th scope=col>&lt;dbl&gt;</th><th scope=col>&lt;dbl&gt;</th><th scope=col>&lt;dbl&gt;</th></tr>\n",
              "</thead>\n",
              "<tbody>\n",
              "\t<tr><th scope=row>1</th><td>97.1</td><td>1</td><td>73</td></tr>\n",
              "\t<tr><th scope=row>2</th><td>97.1</td><td>1</td><td>75</td></tr>\n",
              "\t<tr><th scope=row>3</th><td>97.1</td><td>1</td><td>82</td></tr>\n",
              "\t<tr><th scope=row>4</th><td>97.2</td><td>1</td><td>64</td></tr>\n",
              "\t<tr><th scope=row>5</th><td>97.3</td><td>1</td><td>69</td></tr>\n",
              "</tbody>\n",
              "</table>\n"
            ],
            "text/markdown": "\nA data.frame: 5 × 3\n\n| <!--/--> | bodytemp &lt;dbl&gt; | gender &lt;dbl&gt; | heartrate &lt;dbl&gt; |\n|---|---|---|---|\n| 1 | 97.1 | 1 | 73 |\n| 2 | 97.1 | 1 | 75 |\n| 3 | 97.1 | 1 | 82 |\n| 4 | 97.2 | 1 | 64 |\n| 5 | 97.3 | 1 | 69 |\n\n",
            "text/latex": "A data.frame: 5 × 3\n\\begin{tabular}{r|lll}\n  & bodytemp & gender & heartrate\\\\\n  & <dbl> & <dbl> & <dbl>\\\\\n\\hline\n\t1 & 97.1 & 1 & 73\\\\\n\t2 & 97.1 & 1 & 75\\\\\n\t3 & 97.1 & 1 & 82\\\\\n\t4 & 97.2 & 1 & 64\\\\\n\t5 & 97.3 & 1 & 69\\\\\n\\end{tabular}\n",
            "text/plain": [
              "  bodytemp gender heartrate\n",
              "1 97.1     1      73       \n",
              "2 97.1     1      75       \n",
              "3 97.1     1      82       \n",
              "4 97.2     1      64       \n",
              "5 97.3     1      69       "
            ]
          },
          "metadata": {}
        }
      ]
    },
    {
      "cell_type": "code",
      "source": [
        "colnames(cardiacdata)"
      ],
      "metadata": {
        "colab": {
          "base_uri": "https://localhost:8080/",
          "height": 34
        },
        "id": "KdaWcBt6JREV",
        "outputId": "770aa14a-ccea-45f0-f5f8-e70d0dbfac4b"
      },
      "execution_count": 28,
      "outputs": [
        {
          "output_type": "display_data",
          "data": {
            "text/html": [
              "<style>\n",
              ".list-inline {list-style: none; margin:0; padding: 0}\n",
              ".list-inline>li {display: inline-block}\n",
              ".list-inline>li:not(:last-child)::after {content: \"\\00b7\"; padding: 0 .5ex}\n",
              "</style>\n",
              "<ol class=list-inline><li>'bodytemp'</li><li>'gender'</li><li>'heartrate'</li></ol>\n"
            ],
            "text/markdown": "1. 'bodytemp'\n2. 'gender'\n3. 'heartrate'\n\n\n",
            "text/latex": "\\begin{enumerate*}\n\\item 'bodytemp'\n\\item 'gender'\n\\item 'heartrate'\n\\end{enumerate*}\n",
            "text/plain": [
              "[1] \"bodytemp\"  \"gender\"    \"heartrate\""
            ]
          },
          "metadata": {}
        }
      ]
    },
    {
      "cell_type": "code",
      "source": [
        "dim(cardiacdata)"
      ],
      "metadata": {
        "colab": {
          "base_uri": "https://localhost:8080/",
          "height": 34
        },
        "id": "pSoF4WQFJTuJ",
        "outputId": "789700dd-486d-48c3-e289-eebc773d0d02"
      },
      "execution_count": 29,
      "outputs": [
        {
          "output_type": "display_data",
          "data": {
            "text/html": [
              "<style>\n",
              ".list-inline {list-style: none; margin:0; padding: 0}\n",
              ".list-inline>li {display: inline-block}\n",
              ".list-inline>li:not(:last-child)::after {content: \"\\00b7\"; padding: 0 .5ex}\n",
              "</style>\n",
              "<ol class=list-inline><li>14</li><li>3</li></ol>\n"
            ],
            "text/markdown": "1. 14\n2. 3\n\n\n",
            "text/latex": "\\begin{enumerate*}\n\\item 14\n\\item 3\n\\end{enumerate*}\n",
            "text/plain": [
              "[1] 14  3"
            ]
          },
          "metadata": {}
        }
      ]
    },
    {
      "cell_type": "code",
      "source": [
        "class(cardiacdata)"
      ],
      "metadata": {
        "colab": {
          "base_uri": "https://localhost:8080/",
          "height": 34
        },
        "id": "U1dW6ZDtJV3p",
        "outputId": "4ac5bcf9-0d3b-4f3d-f53f-8449d2292793"
      },
      "execution_count": 30,
      "outputs": [
        {
          "output_type": "display_data",
          "data": {
            "text/html": [
              "'data.frame'"
            ],
            "text/markdown": "'data.frame'",
            "text/latex": "'data.frame'",
            "text/plain": [
              "[1] \"data.frame\""
            ]
          },
          "metadata": {}
        }
      ]
    },
    {
      "cell_type": "code",
      "source": [
        "class(cardiacdata$bodytemp)"
      ],
      "metadata": {
        "colab": {
          "base_uri": "https://localhost:8080/",
          "height": 34
        },
        "id": "hFjWaCHNJXvX",
        "outputId": "5e9b417e-49db-4b18-9ee2-095bb6da6739"
      },
      "execution_count": 31,
      "outputs": [
        {
          "output_type": "display_data",
          "data": {
            "text/html": [
              "'numeric'"
            ],
            "text/markdown": "'numeric'",
            "text/latex": "'numeric'",
            "text/plain": [
              "[1] \"numeric\""
            ]
          },
          "metadata": {}
        }
      ]
    },
    {
      "cell_type": "code",
      "source": [
        "class(cardiacdata$heartrate)"
      ],
      "metadata": {
        "colab": {
          "base_uri": "https://localhost:8080/",
          "height": 34
        },
        "id": "iCKEj10-JgmO",
        "outputId": "8bb039f3-d070-4d12-dce7-934151b7d465"
      },
      "execution_count": 32,
      "outputs": [
        {
          "output_type": "display_data",
          "data": {
            "text/html": [
              "'numeric'"
            ],
            "text/markdown": "'numeric'",
            "text/latex": "'numeric'",
            "text/plain": [
              "[1] \"numeric\""
            ]
          },
          "metadata": {}
        }
      ]
    },
    {
      "cell_type": "code",
      "source": [
        "# extract element in 1st row and 3th column\n",
        "cardiacdata[1,3]"
      ],
      "metadata": {
        "colab": {
          "base_uri": "https://localhost:8080/",
          "height": 34
        },
        "id": "QLi8qPxfJjTR",
        "outputId": "c9656a95-c2ed-42b6-ad4a-3dc05c22d8e6"
      },
      "execution_count": 33,
      "outputs": [
        {
          "output_type": "display_data",
          "data": {
            "text/html": [
              "73"
            ],
            "text/markdown": "73",
            "text/latex": "73",
            "text/plain": [
              "[1] 73"
            ]
          },
          "metadata": {}
        }
      ]
    },
    {
      "cell_type": "code",
      "source": [
        "# extract rows 5-7 from columns 1-3\n",
        "cardiacdata[5:7,1:3]"
      ],
      "metadata": {
        "colab": {
          "base_uri": "https://localhost:8080/",
          "height": 190
        },
        "id": "EAa_uFSPJuJh",
        "outputId": "c98dc847-3aba-44f4-84a6-e8db40aefdc2"
      },
      "execution_count": 34,
      "outputs": [
        {
          "output_type": "display_data",
          "data": {
            "text/html": [
              "<table class=\"dataframe\">\n",
              "<caption>A data.frame: 3 × 3</caption>\n",
              "<thead>\n",
              "\t<tr><th></th><th scope=col>bodytemp</th><th scope=col>gender</th><th scope=col>heartrate</th></tr>\n",
              "\t<tr><th></th><th scope=col>&lt;dbl&gt;</th><th scope=col>&lt;dbl&gt;</th><th scope=col>&lt;dbl&gt;</th></tr>\n",
              "</thead>\n",
              "<tbody>\n",
              "\t<tr><th scope=row>5</th><td>97.3</td><td>1</td><td>69</td></tr>\n",
              "\t<tr><th scope=row>6</th><td>97.4</td><td>1</td><td>70</td></tr>\n",
              "\t<tr><th scope=row>7</th><td>97.4</td><td>1</td><td>68</td></tr>\n",
              "</tbody>\n",
              "</table>\n"
            ],
            "text/markdown": "\nA data.frame: 3 × 3\n\n| <!--/--> | bodytemp &lt;dbl&gt; | gender &lt;dbl&gt; | heartrate &lt;dbl&gt; |\n|---|---|---|---|\n| 5 | 97.3 | 1 | 69 |\n| 6 | 97.4 | 1 | 70 |\n| 7 | 97.4 | 1 | 68 |\n\n",
            "text/latex": "A data.frame: 3 × 3\n\\begin{tabular}{r|lll}\n  & bodytemp & gender & heartrate\\\\\n  & <dbl> & <dbl> & <dbl>\\\\\n\\hline\n\t5 & 97.3 & 1 & 69\\\\\n\t6 & 97.4 & 1 & 70\\\\\n\t7 & 97.4 & 1 & 68\\\\\n\\end{tabular}\n",
            "text/plain": [
              "  bodytemp gender heartrate\n",
              "5 97.3     1      69       \n",
              "6 97.4     1      70       \n",
              "7 97.4     1      68       "
            ]
          },
          "metadata": {}
        }
      ]
    },
    {
      "cell_type": "code",
      "source": [
        "# extract column 'bodytemp' and assign to new object 'temperatures'\n",
        "temperatures <- cardiacdata$bodytemp"
      ],
      "metadata": {
        "id": "JEO1t5fyJyzL"
      },
      "execution_count": 35,
      "outputs": []
    },
    {
      "cell_type": "code",
      "source": [
        "# select columns 'gender' and 'heartrate' and assign to new object 'heartrates'\n",
        "heartrates <- select(cardiacdata, gender, heartrate)"
      ],
      "metadata": {
        "id": "zzGef-XuJ2kZ"
      },
      "execution_count": 36,
      "outputs": []
    },
    {
      "cell_type": "code",
      "source": [
        "## append variable names with their respective units\n",
        "# rename 'bodytemp' to 'bodytemp_degF'\n",
        "cardiacdata <- rename(cardiacdata, bodytemp_degF = bodytemp)\n",
        "\n",
        "# rename 'heartrate' to 'heartrate_bpm'\n",
        "cardiacdata <- rename(cardiacdata, heartrate_bpm = heartrate)"
      ],
      "metadata": {
        "id": "Ws7ESLgWJ5tH"
      },
      "execution_count": 37,
      "outputs": []
    },
    {
      "cell_type": "code",
      "source": [
        "head(cardiacdata)"
      ],
      "metadata": {
        "colab": {
          "base_uri": "https://localhost:8080/",
          "height": 283
        },
        "id": "2s9UFEkSJ50I",
        "outputId": "92b86eb1-8a76-495e-df1a-ce1197c0527e"
      },
      "execution_count": 38,
      "outputs": [
        {
          "output_type": "display_data",
          "data": {
            "text/html": [
              "<table class=\"dataframe\">\n",
              "<caption>A data.frame: 6 × 3</caption>\n",
              "<thead>\n",
              "\t<tr><th></th><th scope=col>bodytemp_degF</th><th scope=col>gender</th><th scope=col>heartrate_bpm</th></tr>\n",
              "\t<tr><th></th><th scope=col>&lt;dbl&gt;</th><th scope=col>&lt;dbl&gt;</th><th scope=col>&lt;dbl&gt;</th></tr>\n",
              "</thead>\n",
              "<tbody>\n",
              "\t<tr><th scope=row>1</th><td>97.1</td><td>1</td><td>73</td></tr>\n",
              "\t<tr><th scope=row>2</th><td>97.1</td><td>1</td><td>75</td></tr>\n",
              "\t<tr><th scope=row>3</th><td>97.1</td><td>1</td><td>82</td></tr>\n",
              "\t<tr><th scope=row>4</th><td>97.2</td><td>1</td><td>64</td></tr>\n",
              "\t<tr><th scope=row>5</th><td>97.3</td><td>1</td><td>69</td></tr>\n",
              "\t<tr><th scope=row>6</th><td>97.4</td><td>1</td><td>70</td></tr>\n",
              "</tbody>\n",
              "</table>\n"
            ],
            "text/markdown": "\nA data.frame: 6 × 3\n\n| <!--/--> | bodytemp_degF &lt;dbl&gt; | gender &lt;dbl&gt; | heartrate_bpm &lt;dbl&gt; |\n|---|---|---|---|\n| 1 | 97.1 | 1 | 73 |\n| 2 | 97.1 | 1 | 75 |\n| 3 | 97.1 | 1 | 82 |\n| 4 | 97.2 | 1 | 64 |\n| 5 | 97.3 | 1 | 69 |\n| 6 | 97.4 | 1 | 70 |\n\n",
            "text/latex": "A data.frame: 6 × 3\n\\begin{tabular}{r|lll}\n  & bodytemp\\_degF & gender & heartrate\\_bpm\\\\\n  & <dbl> & <dbl> & <dbl>\\\\\n\\hline\n\t1 & 97.1 & 1 & 73\\\\\n\t2 & 97.1 & 1 & 75\\\\\n\t3 & 97.1 & 1 & 82\\\\\n\t4 & 97.2 & 1 & 64\\\\\n\t5 & 97.3 & 1 & 69\\\\\n\t6 & 97.4 & 1 & 70\\\\\n\\end{tabular}\n",
            "text/plain": [
              "  bodytemp_degF gender heartrate_bpm\n",
              "1 97.1          1      73           \n",
              "2 97.1          1      75           \n",
              "3 97.1          1      82           \n",
              "4 97.2          1      64           \n",
              "5 97.3          1      69           \n",
              "6 97.4          1      70           "
            ]
          },
          "metadata": {}
        }
      ]
    },
    {
      "cell_type": "code",
      "source": [
        "# add new column with body temperature in degrees celsius\n",
        "cardiacdata <- mutate(cardiacdata, bodytemp_degC = (bodytemp_degF - 32)*(5/9))"
      ],
      "metadata": {
        "id": "RPs0NZz8KCiP"
      },
      "execution_count": 39,
      "outputs": []
    },
    {
      "cell_type": "code",
      "source": [
        "# change values in gender column to read \"Female\" and \"Male\" instead of 1 and 2\n",
        "cardiacdata <- mutate(cardiacdata, gender = ifelse(gender == 1, 'Female', \n",
        "                                            ifelse(gender == 2, 'Male', NA)))"
      ],
      "metadata": {
        "id": "lJKSQcfUKGnZ"
      },
      "execution_count": 40,
      "outputs": []
    },
    {
      "cell_type": "code",
      "source": [
        "head(cardiacdata)"
      ],
      "metadata": {
        "colab": {
          "base_uri": "https://localhost:8080/",
          "height": 283
        },
        "id": "z6zATQ1iKI2J",
        "outputId": "f2ca4d95-f3d7-477d-efe8-de394a1067ae"
      },
      "execution_count": 41,
      "outputs": [
        {
          "output_type": "display_data",
          "data": {
            "text/html": [
              "<table class=\"dataframe\">\n",
              "<caption>A data.frame: 6 × 4</caption>\n",
              "<thead>\n",
              "\t<tr><th></th><th scope=col>bodytemp_degF</th><th scope=col>gender</th><th scope=col>heartrate_bpm</th><th scope=col>bodytemp_degC</th></tr>\n",
              "\t<tr><th></th><th scope=col>&lt;dbl&gt;</th><th scope=col>&lt;chr&gt;</th><th scope=col>&lt;dbl&gt;</th><th scope=col>&lt;dbl&gt;</th></tr>\n",
              "</thead>\n",
              "<tbody>\n",
              "\t<tr><th scope=row>1</th><td>97.1</td><td>Female</td><td>73</td><td>36.16667</td></tr>\n",
              "\t<tr><th scope=row>2</th><td>97.1</td><td>Female</td><td>75</td><td>36.16667</td></tr>\n",
              "\t<tr><th scope=row>3</th><td>97.1</td><td>Female</td><td>82</td><td>36.16667</td></tr>\n",
              "\t<tr><th scope=row>4</th><td>97.2</td><td>Female</td><td>64</td><td>36.22222</td></tr>\n",
              "\t<tr><th scope=row>5</th><td>97.3</td><td>Female</td><td>69</td><td>36.27778</td></tr>\n",
              "\t<tr><th scope=row>6</th><td>97.4</td><td>Female</td><td>70</td><td>36.33333</td></tr>\n",
              "</tbody>\n",
              "</table>\n"
            ],
            "text/markdown": "\nA data.frame: 6 × 4\n\n| <!--/--> | bodytemp_degF &lt;dbl&gt; | gender &lt;chr&gt; | heartrate_bpm &lt;dbl&gt; | bodytemp_degC &lt;dbl&gt; |\n|---|---|---|---|---|\n| 1 | 97.1 | Female | 73 | 36.16667 |\n| 2 | 97.1 | Female | 75 | 36.16667 |\n| 3 | 97.1 | Female | 82 | 36.16667 |\n| 4 | 97.2 | Female | 64 | 36.22222 |\n| 5 | 97.3 | Female | 69 | 36.27778 |\n| 6 | 97.4 | Female | 70 | 36.33333 |\n\n",
            "text/latex": "A data.frame: 6 × 4\n\\begin{tabular}{r|llll}\n  & bodytemp\\_degF & gender & heartrate\\_bpm & bodytemp\\_degC\\\\\n  & <dbl> & <chr> & <dbl> & <dbl>\\\\\n\\hline\n\t1 & 97.1 & Female & 73 & 36.16667\\\\\n\t2 & 97.1 & Female & 75 & 36.16667\\\\\n\t3 & 97.1 & Female & 82 & 36.16667\\\\\n\t4 & 97.2 & Female & 64 & 36.22222\\\\\n\t5 & 97.3 & Female & 69 & 36.27778\\\\\n\t6 & 97.4 & Female & 70 & 36.33333\\\\\n\\end{tabular}\n",
            "text/plain": [
              "  bodytemp_degF gender heartrate_bpm bodytemp_degC\n",
              "1 97.1          Female 73            36.16667     \n",
              "2 97.1          Female 75            36.16667     \n",
              "3 97.1          Female 82            36.16667     \n",
              "4 97.2          Female 64            36.22222     \n",
              "5 97.3          Female 69            36.27778     \n",
              "6 97.4          Female 70            36.33333     "
            ]
          },
          "metadata": {}
        }
      ]
    },
    {
      "cell_type": "code",
      "source": [
        "# filter for data from female subjects only\n",
        "cardiacdata_female <- filter(cardiacdata, gender == 'Female')"
      ],
      "metadata": {
        "id": "ncdsnExyKL1R"
      },
      "execution_count": 42,
      "outputs": []
    },
    {
      "cell_type": "code",
      "source": [
        "cardiacdata <- cardiacdata %>%\n",
        "  filter(gender == 'Female') %>%\n",
        "  select(-gender) %>%\n",
        "  mutate(bodytemp_Kelvin = bodytemp_degC + 273)"
      ],
      "metadata": {
        "id": "98r3LmKEKNnA"
      },
      "execution_count": 43,
      "outputs": []
    },
    {
      "cell_type": "code",
      "source": [
        "bodytemp <- c(97.1,97.1,97.1,97.2,97.3,97.4,97.4,97.4,97.4,97.5,97.5,97.6,97.6,97.6)\n",
        "gender <- c(1,1,1,1,1,1,1,1,1,1,1,1,1,1)\n",
        "heartrate <- c(73,75,82,64,69,70,68,72,78,70,75,74,69,69)\n",
        "\n",
        "cardiacdata <- data.frame(bodytemp = bodytemp, gender = gender, heartrate = heartrate)"
      ],
      "metadata": {
        "id": "_tESf8f7L7XE"
      },
      "execution_count": 48,
      "outputs": []
    },
    {
      "cell_type": "code",
      "source": [
        "# extract column 'bodytemp' and assign to new object 'temperatures'\n",
        "temperatures <- cardiacdata$bodytemp\n",
        "# select columns 'gender' and 'heartrate' and assign to new object 'heartrates'\n",
        "heartrates <- select(cardiacdata, gender, heartrate)\n",
        "## append variable names with their respective units\n",
        "# rename 'bodytemp' to 'bodytemp_degF'\n",
        "cardiacdata <- rename(cardiacdata, bodytemp_degF = bodytemp)\n",
        "# rename 'heartrate' to 'heartrate_bpm'\n",
        "cardiacdata <- rename(cardiacdata, heartrate_bpm = heartrate)\n",
        "# add new column with body temperature in degrees celsius\n",
        "cardiacdata <- mutate(cardiacdata, bodytemp_degC = (bodytemp_degF - 32)*(5/9))\n",
        "# change values in gender column to read \"Female\" and \"Male\" instead of 1 and 2\n",
        "cardiacdata <- mutate(cardiacdata, gender = ifelse(gender == 1, 'Female', \n",
        "                                            ifelse(gender == 2, 'Male', NA)))"
      ],
      "metadata": {
        "id": "fHaVh6psME5N"
      },
      "execution_count": 50,
      "outputs": []
    },
    {
      "cell_type": "code",
      "source": [
        "cardiacdata_byGender <- cardiacdata %>%\n",
        "  group_by(gender) %>%                                  # group by 'gender'\n",
        "  summarize(avg_bodytemp_degF = mean(bodytemp_degF),    # aggregate using means\n",
        "            avg_bodytemp_degC = mean(bodytemp_degC), \n",
        "            avg_heartrate_bpm = mean(heartrate_bpm)) "
      ],
      "metadata": {
        "id": "wPLY1biMMI11"
      },
      "execution_count": 51,
      "outputs": []
    },
    {
      "cell_type": "code",
      "source": [
        "some_numbers <- c(4,5,6,7,NA,8)"
      ],
      "metadata": {
        "id": "hF85E_L0MOAF"
      },
      "execution_count": 52,
      "outputs": []
    },
    {
      "cell_type": "code",
      "source": [
        "mean(some_numbers)"
      ],
      "metadata": {
        "colab": {
          "base_uri": "https://localhost:8080/",
          "height": 34
        },
        "id": "qdC4dkA-MQlc",
        "outputId": "ba9db0df-32fa-46d5-b754-c0693a65390d"
      },
      "execution_count": 53,
      "outputs": [
        {
          "output_type": "display_data",
          "data": {
            "text/html": [
              "&lt;NA&gt;"
            ],
            "text/markdown": "&lt;NA&gt;",
            "text/latex": "<NA>",
            "text/plain": [
              "[1] NA"
            ]
          },
          "metadata": {}
        }
      ]
    },
    {
      "cell_type": "code",
      "source": [
        "mean(some_numbers, na.rm = TRUE)"
      ],
      "metadata": {
        "colab": {
          "base_uri": "https://localhost:8080/",
          "height": 34
        },
        "id": "qEjwsMeNMSzm",
        "outputId": "914944ef-f511-4c07-ec1b-cc49846fc8b8"
      },
      "execution_count": 54,
      "outputs": [
        {
          "output_type": "display_data",
          "data": {
            "text/html": [
              "6"
            ],
            "text/markdown": "6",
            "text/latex": "6",
            "text/plain": [
              "[1] 6"
            ]
          },
          "metadata": {}
        }
      ]
    },
    {
      "cell_type": "code",
      "source": [
        "ggplot(data = cardiacdata, mapping = aes(x = bodytemp_degC)) + \n",
        "  geom_histogram(bins = 20)"
      ],
      "metadata": {
        "colab": {
          "base_uri": "https://localhost:8080/",
          "height": 437
        },
        "id": "0qqqI4jDMa2L",
        "outputId": "fde529bf-7f2f-49c3-9e7a-5b5511f0e112"
      },
      "execution_count": 55,
      "outputs": [
        {
          "output_type": "display_data",
          "data": {
            "text/plain": [
              "plot without title"
            ],
            "image/png": "[encoded data removed]"
          },
          "metadata": {
            "image/png": {
              "width": 420,
              "height": 420
            }
          }
        }
      ]
    },
    {
      "cell_type": "code",
      "source": [
        "ggplot(data = cardiacdata, mapping = aes(x = bodytemp_degC)) + \n",
        "  geom_histogram(bins = 20, aes(y = ..density..))"
      ],
      "metadata": {
        "colab": {
          "base_uri": "https://localhost:8080/",
          "height": 437
        },
        "id": "mrHQNfHlMcIt",
        "outputId": "f2017ece-74f3-4ba4-b2be-20346035dc14"
      },
      "execution_count": 56,
      "outputs": [
        {
          "output_type": "display_data",
          "data": {
            "text/plain": [
              "plot without title"
            ],
            "image/png": "[encoded data removed]"
          },
          "metadata": {
            "image/png": {
              "width": 420,
              "height": 420
            }
          }
        }
      ]
    },
    {
      "cell_type": "code",
      "source": [
        "ggplot(data = cardiacdata, mapping = aes(x = bodytemp_degC)) + \n",
        "  geom_histogram(bins = 20, aes(y = ..density..), fill = 'lightblue') +\n",
        "  xlab('body temperature (celsius)') +\n",
        "  ggtitle('distribution of body temperatures') +\n",
        "  theme_light()"
      ],
      "metadata": {
        "colab": {
          "base_uri": "https://localhost:8080/",
          "height": 437
        },
        "id": "2SPXbdvFMoVZ",
        "outputId": "810eab60-f6cf-4627-af17-cd0df4df9072"
      },
      "execution_count": 57,
      "outputs": [
        {
          "output_type": "display_data",
          "data": {
            "text/plain": [
              "plot without title"
            ],
            "image/png": "[encoded data removed]"
          },
          "metadata": {
            "image/png": {
              "width": 420,
              "height": 420
            }
          }
        }
      ]
    },
    {
      "cell_type": "code",
      "source": [
        "ggplot(data = cardiacdata, mapping = aes(x = heartrate_bpm, y = bodytemp_degC)) + \n",
        "  geom_point() +\n",
        "  theme_light()"
      ],
      "metadata": {
        "colab": {
          "base_uri": "https://localhost:8080/",
          "height": 437
        },
        "id": "xrEYOVNjMqum",
        "outputId": "84db7a61-8d06-4432-84c5-e1a4b2380177"
      },
      "execution_count": 58,
      "outputs": [
        {
          "output_type": "display_data",
          "data": {
            "text/plain": [
              "plot without title"
            ],
            "image/png": "[encoded data removed]"
          },
          "metadata": {
            "image/png": {
              "width": 420,
              "height": 420
            }
          }
        }
      ]
    },
    {
      "cell_type": "code",
      "source": [
        "ggplot(data = cardiacdata, mapping = aes(x = heartrate_bpm, y = bodytemp_degC, color = gender)) + \n",
        "  geom_point() +\n",
        "  theme_light()"
      ],
      "metadata": {
        "colab": {
          "base_uri": "https://localhost:8080/",
          "height": 437
        },
        "id": "Ldstuxx5Ms9I",
        "outputId": "2980404c-0352-4cc7-8dd2-ebd491ffa087"
      },
      "execution_count": 59,
      "outputs": [
        {
          "output_type": "display_data",
          "data": {
            "text/plain": [
              "plot without title"
            ],
            "image/png": "[encoded data removed]"
          },
          "metadata": {
            "image/png": {
              "width": 420,
              "height": 420
            }
          }
        }
      ]
    },
    {
      "cell_type": "code",
      "source": [
        "ggplot(data = cardiacdata, mapping = aes(x = gender, y = bodytemp_degC)) +\n",
        "  geom_boxplot() +\n",
        "  xlab('gender') +\n",
        "  ylab('body temperature (celsius)') +\n",
        "  theme_light()"
      ],
      "metadata": {
        "colab": {
          "base_uri": "https://localhost:8080/",
          "height": 437
        },
        "id": "pmIQJj81Mwkx",
        "outputId": "aa61415a-dee8-4055-9f8b-53a09acfac41"
      },
      "execution_count": 60,
      "outputs": [
        {
          "output_type": "display_data",
          "data": {
            "text/plain": [
              "plot without title"
            ],
            "image/png": "[encoded data removed]"
          },
          "metadata": {
            "image/png": {
              "width": 420,
              "height": 420
            }
          }
        }
      ]
    }
  ]
}